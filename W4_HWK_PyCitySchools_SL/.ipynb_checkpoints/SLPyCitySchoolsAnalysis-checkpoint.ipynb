{
 "cells": [
  {
   "cell_type": "markdown",
   "metadata": {},
   "source": [
    "### PyCitySchools Analysis<br/>"
   ]
  },
  {
   "cell_type": "markdown",
   "metadata": {},
   "source": [
    "Observation 1) Charter schools outperformed district schools in all evaluated categories<br/><br/>\n",
    "Observation 2) For these examples higher \"spending per student\" does not correlate to higher performance<br/><br/>\n",
    "Observation 3) These results suggest a relationship between school size and performance - with smaller schools achieving better outcomes"
   ]
  },
  {
   "cell_type": "code",
   "execution_count": null,
   "metadata": {},
   "outputs": [],
   "source": [
    "import pandas as pd\n",
    "import numpy as np"
   ]
  },
  {
   "cell_type": "code",
   "execution_count": null,
   "metadata": {},
   "outputs": [],
   "source": [
    "stu_df = pd.read_csv('raw_data/students_complete.csv')\n",
    "scho_df = pd.read_csv('raw_data/schools_complete.csv')"
   ]
  },
  {
   "cell_type": "code",
   "execution_count": null,
   "metadata": {},
   "outputs": [],
   "source": [
    "#Create bins for df\n",
    "bins = [0, 69, 100]\n",
    "pass_fail = [0 , 1]"
   ]
  },
  {
   "cell_type": "code",
   "execution_count": null,
   "metadata": {},
   "outputs": [],
   "source": [
    "#Create bins that assign a 1 or 0 to another column for columns \"pass_reading\" and \"pass_math\"\n",
    "stu_df[\"pass_reading\"] = pd.cut(stu_df[\"reading_score\"], bins, labels=pass_fail)\n",
    "stu_df[\"pass_math\"] = pd.cut(stu_df[\"math_score\"], bins, labels=pass_fail)"
   ]
  },
  {
   "cell_type": "code",
   "execution_count": null,
   "metadata": {},
   "outputs": [],
   "source": [
    "#Add the bin labels together as a value test for \"pass_overall.\"\n",
    "stu_df[\"pass_overall\"] = (stu_df[\"pass_math\"]+stu_df[\"pass_reading\"])"
   ]
  },
  {
   "cell_type": "code",
   "execution_count": null,
   "metadata": {},
   "outputs": [],
   "source": [
    "#Build a dictionary to serve as DataFrame information. \n",
    "dist_summary =   {\n",
    "                    'Total Schools'         : scho_df[\"name\"].count(),\n",
    "                    'Total Students'        : scho_df[\"size\"].sum(),\n",
    "                    'Total Budget'          : scho_df[\"budget\"].sum(),\n",
    "                    'Average Math Score'    : stu_df[\"math_score\"].mean(),\n",
    "                    'Average Reading Score' : stu_df[\"reading_score\"].mean(),\n",
    "                    '% Passing Math'        : ((stu_df[\"pass_math\"]).astype('float').sum()/(stu_df[\"pass_math\"]).astype('float').count())*100,\n",
    "                    '% Passing Reading'     : ((stu_df[\"pass_reading\"]).astype('float').sum()/(stu_df[\"pass_reading\"]).astype('float').count())*100,\n",
    "                    '% Overall Passing Rate': (stu_df[stu_df[\"pass_overall\"]>1].count()[\"pass_overall\"]/stu_df[stu_df[\"pass_overall\"]>=0].count()[\"pass_overall\"])*100\n",
    "                    # Note: The example had impossible values for overall passing rate. The correct way to calculate this is above. To be safe, for the rest of the challenge I went with a method that reflected what was shown on the example.\n",
    "                    }"
   ]
  },
  {
   "cell_type": "markdown",
   "metadata": {},
   "source": [
    "#### District Summary"
   ]
  },
  {
   "cell_type": "code",
   "execution_count": null,
   "metadata": {},
   "outputs": [],
   "source": [
    "#Build and display the last DataFrame for Part 1 of PyCitySchools\n",
    "df = pd.DataFrame([dist_summary], columns=dist_summary.keys())\n",
    "\n",
    "df"
   ]
  },
  {
   "cell_type": "code",
   "execution_count": null,
   "metadata": {
    "scrolled": true
   },
   "outputs": [],
   "source": [
    "#Build District Summary DataFrame and combine data as needed.\n",
    "x = scho_df[[\"name\",\"type\",\"size\",'budget']].copy()\n",
    "x.columns = ['School Name', 'School Type', 'Total Students','Total School Budget']\n",
    "df_dist_summary = x.set_index('School Name')"
   ]
  },
  {
   "cell_type": "markdown",
   "metadata": {},
   "source": [
    "#### School Summary"
   ]
  },
  {
   "cell_type": "code",
   "execution_count": null,
   "metadata": {},
   "outputs": [],
   "source": [
    "df_dist_summary['Per Student Budget'] = df_dist_summary['Total School Budget'] / df_dist_summary[\"Total Students\"]\n",
    "\n",
    "df_dist_summary['Average Math Score'] = pd.pivot_table(stu_df, values = \"math_score\", index=['school'], aggfunc='sum')\n",
    "df_dist_summary['Average Math Score'] = df_dist_summary['Average Math Score'] / df_dist_summary[\"Total Students\"]\n",
    "\n",
    "df_dist_summary['Average Reading Score'] = pd.pivot_table(stu_df, values = \"reading_score\", index=['school'], aggfunc='sum')\n",
    "df_dist_summary['Average Reading Score'] = df_dist_summary['Average Reading Score'] / df_dist_summary[\"Total Students\"]\n",
    "\n",
    "df_dist_summary['% Passing Math'] = pd.pivot_table(stu_df, values = \"pass_math\", index=['school'], aggfunc='sum') \n",
    "df_dist_summary['% Passing Math'] = (df_dist_summary['% Passing Math'] / df_dist_summary[\"Total Students\"]) * 100\n",
    "\n",
    "df_dist_summary['% Passing Reading'] = pd.pivot_table(stu_df, values = \"pass_reading\", index=['school'], aggfunc='sum') \n",
    "df_dist_summary['% Passing Reading'] = (df_dist_summary['% Passing Reading'] / df_dist_summary[\"Total Students\"]) * 100\n",
    "\n",
    "df_dist_summary['% Overall Passing Rate'] = ((df_dist_summary['% Passing Reading'] + df_dist_summary['% Passing Math']) / 2)\n",
    "df_dist_summary"
   ]
  },
  {
   "cell_type": "markdown",
   "metadata": {},
   "source": [
    "#### Top Performing Schools (By Passing Rate)"
   ]
  },
  {
   "cell_type": "code",
   "execution_count": null,
   "metadata": {},
   "outputs": [],
   "source": [
    "#Sort District Summary by Overall Passing Rate (highest).\n",
    "df_dist_summary = df_dist_summary.sort_values(by=\"% Overall Passing Rate\", ascending=False)\n",
    "df_dist_summary.head(5)"
   ]
  },
  {
   "cell_type": "markdown",
   "metadata": {},
   "source": [
    "#### Bottom Performing Schools (By Passing Rate)"
   ]
  },
  {
   "cell_type": "code",
   "execution_count": null,
   "metadata": {},
   "outputs": [],
   "source": [
    "#Sort District Summary by Overall Passing Rate (lowest).\n",
    "df_dist_summary = df_dist_summary.sort_values(by=\"% Overall Passing Rate\", ascending=True)\n",
    "df_dist_summary.head(5)"
   ]
  },
  {
   "cell_type": "markdown",
   "metadata": {},
   "source": [
    "#### Math Performance (by School/Grade)"
   ]
  },
  {
   "cell_type": "code",
   "execution_count": null,
   "metadata": {},
   "outputs": [],
   "source": [
    "#Create a DataFrame that shows By Grade / By School math performance.\n",
    "math_by_grade = pd.pivot_table(stu_df, values='math_score', index=['school'], columns=['grade'], aggfunc=np.mean)\n",
    "math_by_grade = math_by_grade[['9th','10th','11th','12th']]\n",
    "math_by_grade"
   ]
  },
  {
   "cell_type": "markdown",
   "metadata": {},
   "source": [
    "#### Reading Performance (by School/Grade)"
   ]
  },
  {
   "cell_type": "code",
   "execution_count": null,
   "metadata": {},
   "outputs": [],
   "source": [
    "#Create a DataFrame that shows By Grade / By School reading performance.\n",
    "reading_by_grade = pd.pivot_table(stu_df, values='reading_score', index=['school'], columns=['grade'], aggfunc=np.mean)\n",
    "reading_by_grade = reading_by_grade[['9th','10th','11th','12th']]\n",
    "reading_by_grade"
   ]
  },
  {
   "cell_type": "markdown",
   "metadata": {},
   "source": [
    "#### Scores by School Spending"
   ]
  },
  {
   "cell_type": "code",
   "execution_count": null,
   "metadata": {
    "scrolled": true
   },
   "outputs": [],
   "source": [
    "#Create DataFrame that shows performance by bins divided by cost per student.\n",
    "\n",
    "spending_dict = {'Bailey High School' : df_dist_summary.loc[\"Bailey High School\",\"Per Student Budget\"],\n",
    "                 'Cabrera High School' : df_dist_summary.loc[\"Cabrera High School\",\"Per Student Budget\"],\n",
    "                 'Figueroa High School' : df_dist_summary.loc[\"Figueroa High School\",\"Per Student Budget\"],\n",
    "                 'Ford High School' : df_dist_summary.loc[\"Ford High School\",\"Per Student Budget\"],\n",
    "                 'Griffin High School' : df_dist_summary.loc[\"Griffin High School\",\"Per Student Budget\"],\n",
    "                 'Hernandez High School' : df_dist_summary.loc[\"Hernandez High School\",\"Per Student Budget\"],\n",
    "                 'Holden High School' : df_dist_summary.loc[\"Holden High School\",\"Per Student Budget\"],\n",
    "                 'Huang High School' : df_dist_summary.loc[\"Huang High School\",\"Per Student Budget\"],\n",
    "                 'Johnson High School' : df_dist_summary.loc[\"Johnson High School\",\"Per Student Budget\"],\n",
    "                 'Pena High School' : df_dist_summary.loc[\"Pena High School\",\"Per Student Budget\"],\n",
    "                 'Rodriguez High School' : df_dist_summary.loc[\"Rodriguez High School\",\"Per Student Budget\"],\n",
    "                 'Shelton High School' : df_dist_summary.loc[\"Shelton High School\",\"Per Student Budget\"],\n",
    "                 'Thomas High School' : df_dist_summary.loc[\"Thomas High School\",\"Per Student Budget\"],\n",
    "                 'Wilson High School' : df_dist_summary.loc[\"Wilson High School\",\"Per Student Budget\"],\n",
    "                 'Wright High School' : df_dist_summary.loc[\"Wright High School\",\"Per Student Budget\"],\n",
    "                }\n",
    "#spending_dict\n",
    "stu_df[\"School Spending Spending (Per Student)\"] = stu_df[\"school\"].map(spending_dict)\n",
    "\n",
    "\n",
    "spending_bins = [0, 585, 615, 645, 675]\n",
    "spending_labels = ['<$585' , '$585-615' , '$615-645' , '$645-675']\n",
    "\n",
    "stu_df[\"Spending Ranges (Per Student)\"] = pd.cut(stu_df[\"School Spending Spending (Per Student)\"], spending_bins, labels=spending_labels)\n",
    "stu_df['pass_math'] = stu_df['pass_math'].astype(float)\n",
    "stu_df['pass_reading'] = stu_df['pass_reading'].astype(float)\n",
    "\n",
    "per_student_df = pd.pivot_table(stu_df, values=['math_score','reading_score','pass_math','pass_reading'], index=['Spending Ranges (Per Student)'], aggfunc=np.mean)\n",
    "per_student_df['% Overall Passing Rate'] = (per_student_df['pass_math'] + per_student_df['pass_reading'])*50\n",
    "per_student_df['pass_math'] = per_student_df['pass_math'] * 100\n",
    "per_student_df['pass_reading'] = per_student_df['pass_reading'] * 100\n",
    "\n",
    "per_student_df.rename(columns={'math_score': 'Average Math Score','reading_score': 'Average Reading Score', 'pass_math': '% Passing Math', 'pass_reading': '% Passing Reading'}, inplace=True)\n",
    "\n",
    "per_student_df = per_student_df[['Average Math Score','Average Reading Score','% Passing Math','% Passing Reading','% Overall Passing Rate']]\n",
    "\n",
    "per_student_df"
   ]
  },
  {
   "cell_type": "markdown",
   "metadata": {},
   "source": [
    "#### Performance by School Size"
   ]
  },
  {
   "cell_type": "code",
   "execution_count": null,
   "metadata": {},
   "outputs": [],
   "source": [
    "#Create DataFrame that shows performance by bins divided by size of school.\n",
    "\n",
    "size_dict = {'Bailey High School' : df_dist_summary.loc[\"Bailey High School\",\"Total Students\"],\n",
    "                 'Cabrera High School' : df_dist_summary.loc[\"Cabrera High School\",\"Total Students\"],\n",
    "                 'Figueroa High School' : df_dist_summary.loc[\"Figueroa High School\",\"Total Students\"],\n",
    "                 'Ford High School' : df_dist_summary.loc[\"Ford High School\",\"Total Students\"],\n",
    "                 'Griffin High School' : df_dist_summary.loc[\"Griffin High School\",\"Total Students\"],\n",
    "                 'Hernandez High School' : df_dist_summary.loc[\"Hernandez High School\",\"Total Students\"],\n",
    "                 'Holden High School' : df_dist_summary.loc[\"Holden High School\",\"Total Students\"],\n",
    "                 'Huang High School' : df_dist_summary.loc[\"Huang High School\",\"Total Students\"],\n",
    "                 'Johnson High School' : df_dist_summary.loc[\"Johnson High School\",\"Total Students\"],\n",
    "                 'Pena High School' : df_dist_summary.loc[\"Pena High School\",\"Total Students\"],\n",
    "                 'Rodriguez High School' : df_dist_summary.loc[\"Rodriguez High School\",\"Total Students\"],\n",
    "                 'Shelton High School' : df_dist_summary.loc[\"Shelton High School\",\"Total Students\"],\n",
    "                 'Thomas High School' : df_dist_summary.loc[\"Thomas High School\",\"Total Students\"],\n",
    "                 'Wilson High School' : df_dist_summary.loc[\"Wilson High School\",\"Total Students\"],\n",
    "                 'Wright High School' : df_dist_summary.loc[\"Wright High School\",\"Total Students\"],\n",
    "                }\n",
    "\n",
    "stu_df[\"Size of School\"] = stu_df[\"school\"].map(size_dict)\n",
    "size_bins = [0, 1000, 2000, 5000]\n",
    "size_labels = ['Small (<1000)' , 'Medium (1000-2000)' , 'Large (2000-5000)']\n",
    "stu_df[\"School Size\"] = pd.cut(stu_df[\"Size of School\"], size_bins, labels=size_labels)\n",
    "\n",
    "school_size_df = pd.pivot_table(stu_df, values=['math_score','reading_score','pass_math','pass_reading'], index=['School Size'], aggfunc=np.mean)\n",
    "school_size_df['% Overall Passing Rate'] = (school_size_df['pass_math'] + school_size_df['pass_reading'])*50\n",
    "school_size_df['pass_math'] = school_size_df['pass_math'] * 100\n",
    "school_size_df['pass_reading'] = school_size_df['pass_reading'] * 100\n",
    "\n",
    "\n",
    "school_size_df.rename(columns={'math_score': 'Average Math Score','reading_score': 'Average Reading Score', 'pass_math': '% Passing Math', 'pass_reading': '% Passing Reading'}, inplace=True)\n",
    "\n",
    "school_size_df = school_size_df[['Average Math Score','Average Reading Score','% Passing Math','% Passing Reading','% Overall Passing Rate']]\n",
    "school_size_df"
   ]
  },
  {
   "cell_type": "markdown",
   "metadata": {},
   "source": [
    "#### Performance by School Type"
   ]
  },
  {
   "cell_type": "code",
   "execution_count": null,
   "metadata": {},
   "outputs": [],
   "source": [
    "#Build DataFrame that displays performance by School Type.\n",
    "type_dict = {'Bailey High School' : df_dist_summary.loc[\"Bailey High School\",\"School Type\"],\n",
    "                 'Cabrera High School' : df_dist_summary.loc[\"Cabrera High School\",\"School Type\"],\n",
    "                 'Figueroa High School' : df_dist_summary.loc[\"Figueroa High School\",\"School Type\"],\n",
    "                 'Ford High School' : df_dist_summary.loc[\"Ford High School\",\"School Type\"],\n",
    "                 'Griffin High School' : df_dist_summary.loc[\"Griffin High School\",\"School Type\"],\n",
    "                 'Hernandez High School' : df_dist_summary.loc[\"Hernandez High School\",\"School Type\"],\n",
    "                 'Holden High School' : df_dist_summary.loc[\"Holden High School\",\"School Type\"],\n",
    "                 'Huang High School' : df_dist_summary.loc[\"Huang High School\",\"School Type\"],\n",
    "                 'Johnson High School' : df_dist_summary.loc[\"Johnson High School\",\"School Type\"],\n",
    "                 'Pena High School' : df_dist_summary.loc[\"Pena High School\",\"School Type\"],\n",
    "                 'Rodriguez High School' : df_dist_summary.loc[\"Rodriguez High School\",\"School Type\"],\n",
    "                 'Shelton High School' : df_dist_summary.loc[\"Shelton High School\",\"School Type\"],\n",
    "                 'Thomas High School' : df_dist_summary.loc[\"Thomas High School\",\"School Type\"],\n",
    "                 'Wilson High School' : df_dist_summary.loc[\"Wilson High School\",\"School Type\"],\n",
    "                 'Wright High School' : df_dist_summary.loc[\"Wright High School\",\"School Type\"],\n",
    "                }\n",
    "\n",
    "stu_df[\"School Type\"] = stu_df[\"school\"].map(type_dict)\n",
    "\n",
    "school_type_df = pd.pivot_table(stu_df, values=['math_score','reading_score','pass_math','pass_reading'], index=['School Type'], aggfunc=np.mean)\n",
    "school_type_df['% Overall Passing Rate'] = (school_type_df['pass_math'] + school_type_df['pass_reading'])*50\n",
    "school_type_df['pass_math'] = school_type_df['pass_math'] * 100\n",
    "school_type_df['pass_reading'] = school_type_df['pass_reading'] * 100\n",
    "\n",
    "school_type_df.rename(columns={'math_score': 'Average Math Score','reading_score': 'Average Reading Score', 'pass_math': '% Passing Math', 'pass_reading': '% Passing Reading'}, inplace=True)\n",
    "school_type_df = school_type_df[['Average Math Score','Average Reading Score','% Passing Math','% Passing Reading','% Overall Passing Rate']]\n",
    "\n",
    "school_type_df\n"
   ]
  }
 ],
 "metadata": {
  "kernelspec": {
   "display_name": "Python [conda env:PythonData1]",
   "language": "python",
   "name": "conda-env-PythonData1-py"
  },
  "language_info": {
   "codemirror_mode": {
    "name": "ipython",
    "version": 3
   },
   "file_extension": ".py",
   "mimetype": "text/x-python",
   "name": "python",
   "nbconvert_exporter": "python",
   "pygments_lexer": "ipython3",
   "version": "3.6.4"
  }
 },
 "nbformat": 4,
 "nbformat_minor": 2
}
